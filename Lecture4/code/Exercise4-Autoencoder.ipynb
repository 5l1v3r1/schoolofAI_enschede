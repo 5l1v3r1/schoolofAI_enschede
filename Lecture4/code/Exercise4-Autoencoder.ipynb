{
 "cells": [
  {
   "cell_type": "code",
   "execution_count": 3,
   "metadata": {},
   "outputs": [
    {
     "name": "stdout",
     "output_type": "stream",
     "text": [
      "epoch 0: loss = 4.2536845207214355\n",
      "epoch 10: loss = 1.205740213394165\n",
      "epoch 20: loss = 0.5132118463516235\n",
      "epoch 30: loss = 0.3590945303440094\n",
      "epoch 40: loss = 0.3313787579536438\n",
      "epoch 50: loss = 0.32056471705436707\n",
      "epoch 60: loss = 0.2886601686477661\n",
      "epoch 70: loss = 0.2698413133621216\n",
      "epoch 80: loss = 0.23993168771266937\n",
      "epoch 90: loss = 0.22929273545742035\n",
      "epoch 100: loss = 0.22712384164333344\n",
      "epoch 110: loss = 0.22671502828598022\n",
      "epoch 120: loss = 0.2266058325767517\n",
      "epoch 130: loss = 0.22655075788497925\n",
      "epoch 140: loss = 0.22649265825748444\n",
      "epoch 150: loss = 0.22641819715499878\n",
      "epoch 160: loss = 0.22636227309703827\n",
      "epoch 170: loss = 0.22637321054935455\n",
      "epoch 180: loss = 0.22647057473659515\n",
      "epoch 190: loss = 0.22657117247581482\n",
      "epoch 200: loss = 0.22653056681156158\n",
      "epoch 210: loss = 0.22629432380199432\n",
      "epoch 220: loss = 0.22589175403118134\n",
      "epoch 230: loss = 0.22535541653633118\n",
      "epoch 240: loss = 0.22470426559448242\n",
      "INFO:tensorflow:Restoring parameters from ./model.ckpt\n",
      "input [[8, 4, 6, 2]]\n",
      "compressed [[ 0.7952471 -1.       ]]\n",
      "reconstructed [[6.424633  2.892109  5.3234572 1.9021428]]\n"
     ]
    },
    {
     "data": {
      "text/plain": [
       "array([[6.424633 , 2.892109 , 5.3234572, 1.9021428]], dtype=float32)"
      ]
     },
     "execution_count": 3,
     "metadata": {},
     "output_type": "execute_result"
    }
   ],
   "source": [
    "from autoencoder import Autoencoder \n",
    "from sklearn import datasets \n",
    "\n",
    "hidden_dim = 1\n",
    "data = datasets.load_iris().data \n",
    "input_dim = len(data[0]) \n",
    "\n",
    "ae = Autoencoder(input_dim, hidden_dim) \n",
    "\n",
    "ae.train(data) \n",
    "\n",
    "ae.test([[8,4,6,2]])"
   ]
  },
  {
   "cell_type": "code",
   "execution_count": null,
   "metadata": {},
   "outputs": [],
   "source": []
  }
 ],
 "metadata": {
  "kernelspec": {
   "display_name": "Python 3",
   "language": "python",
   "name": "python3"
  },
  "language_info": {
   "codemirror_mode": {
    "name": "ipython",
    "version": 3
   },
   "file_extension": ".py",
   "mimetype": "text/x-python",
   "name": "python",
   "nbconvert_exporter": "python",
   "pygments_lexer": "ipython3",
   "version": "3.6.7"
  }
 },
 "nbformat": 4,
 "nbformat_minor": 2
}
